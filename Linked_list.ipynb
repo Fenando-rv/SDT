{
 "cells": [
  {
   "cell_type": "markdown",
   "metadata": {},
   "source": [
    "# Linked list"
   ]
  },
  {
   "cell_type": "code",
   "execution_count": null,
   "metadata": {},
   "outputs": [
    {
     "name": "stdout",
     "output_type": "stream",
     "text": [
      "Isi Linked List = \n",
      "50 35 15 25 \n",
      "Isi Linked List setelah diinsert = \n",
      "50 35 15 10 25 \n",
      "Node dengan nilai 1 tidak ditemukan dalam linked list.\n"
     ]
    }
   ],
   "source": [
    "class Node:\n",
    "    def __init__(self, data):\n",
    "        self.data = data\n",
    "        self.next = None\n",
    "\n",
    "class LinkedList:\n",
    "    def __init__(self):\n",
    "        self.head = None\n",
    "    \n",
    "    def add_at_beginning(self, data):\n",
    "        new_node = Node(data)\n",
    "        new_node.next = self.head\n",
    "        self.head = new_node\n",
    "\n",
    "    def insert_after(self, prev_data, new_data):\n",
    "        current = self.head\n",
    "        while current:\n",
    "            if current.data == prev_data:\n",
    "                new_node = Node(new_data)\n",
    "                new_node.next = current.next\n",
    "                current.next = new_node\n",
    "                return\n",
    "            current = current.next\n",
    "        print(\"Node dengan nilai\", prev_data, \"tidak ditemukan dalam linked list.\")\n",
    "\n",
    "    def traverse(self):\n",
    "        current = self.head\n",
    "        while current:\n",
    "            print(current.data, end=\" \")\n",
    "            current = current.next\n",
    "        print()\n",
    "\n",
    "    def delete_node(self, key):\n",
    "        temp = self.head\n",
    "        # Kasus khusus jika node yang akan dihapus adalah node pertama\n",
    "        if temp is not None:\n",
    "            if temp.data == key:\n",
    "                self.head = temp.next\n",
    "                temp = None\n",
    "                return\n",
    "        # Mencari node dengan nilai key dan node sebelumnya\n",
    "        prev = None\n",
    "        while temp is not None:\n",
    "            if temp.data == key:\n",
    "                break\n",
    "            prev = temp\n",
    "            temp = temp.next\n",
    "        # Jika node dengan nilai key tidak ditemukan\n",
    "        if temp is None:\n",
    "            print(\"Node dengan nilai\", key, \"tidak ditemukan dalam linked list.\")\n",
    "            return\n",
    "        # Menghapus node\n",
    "        prev.next = temp.next\n",
    "        temp = None\n",
    "\n",
    "    def search_node(self, key):\n",
    "        current = self.head\n",
    "        while current:\n",
    "            if current.data == key:\n",
    "                print(\"Node dengan nilai\", key, \"ditemukan dalam linked list.\")\n",
    "                return\n",
    "            current = current.next\n",
    "        print(\"Node dengan nilai\", key, \"tidak ditemukan dalam linked list.\")\n",
    "\n",
    "\n"
   ]
  }
 ],
 "metadata": {
  "kernelspec": {
   "display_name": "Python 3",
   "language": "python",
   "name": "python3"
  },
  "language_info": {
   "codemirror_mode": {
    "name": "ipython",
    "version": 3
   },
   "file_extension": ".py",
   "mimetype": "text/x-python",
   "name": "python",
   "nbconvert_exporter": "python",
   "pygments_lexer": "ipython3",
   "version": "3.13.0"
  }
 },
 "nbformat": 4,
 "nbformat_minor": 2
}
